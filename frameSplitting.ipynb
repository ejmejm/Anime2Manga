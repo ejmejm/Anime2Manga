{
 "cells": [
  {
   "cell_type": "code",
   "execution_count": 1,
   "metadata": {},
   "outputs": [],
   "source": [
    "import cv2\n",
    "import matplotlib.pyplot as plt\n",
    "from copy import deepcopy\n",
    "import numpy as np\n",
    "\n",
    "%matplotlib inline"
   ]
  },
  {
   "cell_type": "code",
   "execution_count": 2,
   "metadata": {},
   "outputs": [],
   "source": [
    "frame_path = 'data/frames/'"
   ]
  },
  {
   "cell_type": "code",
   "execution_count": 3,
   "metadata": {},
   "outputs": [],
   "source": [
    "write = False"
   ]
  },
  {
   "cell_type": "code",
   "execution_count": 29,
   "metadata": {},
   "outputs": [
    {
     "name": "stdout",
     "output_type": "stream",
     "text": [
      "Read frame # 10000 : True\n",
      "Read frame # 11000 : True\n"
     ]
    }
   ],
   "source": [
    "vidcap = cv2.VideoCapture('data/anime/bnha23.mp4')\n",
    "frame_skip = 3\n",
    "\n",
    "success = True\n",
    "fps = 24\n",
    "\n",
    "frames = []\n",
    "\n",
    "count = 10000\n",
    "while success and count <= 11000:\n",
    "    if count % frame_skip == 0:\n",
    "        success, image = vidcap.read()\n",
    "        frames.append(image)\n",
    "        if write:\n",
    "            cv2.imwrite(frame_path + 'frame' + str(count//frame_skip) + '.jpg', image)\n",
    "    else:\n",
    "        vidcap.grab()\n",
    "    if count % 1000 == 0:\n",
    "        print('Read frame #', count, ':', success)\n",
    "    count += 1"
   ]
  },
  {
   "cell_type": "code",
   "execution_count": 30,
   "metadata": {},
   "outputs": [],
   "source": [
    "outline_frames = []\n",
    "\n",
    "for i, frame in enumerate(frames):\n",
    "    outline_frames.append(imgToOutline(frame, invert=True))\n",
    "    if write:\n",
    "        cv2.imwrite('output/frames/frame' + str(i) + '.jpg', outline_frames[-1])"
   ]
  },
  {
   "cell_type": "code",
   "execution_count": 31,
   "metadata": {},
   "outputs": [],
   "source": [
    "# for i in range(len(outline_frames)):\n",
    "#     for pixel_idx in range(len(outline_frames[i])):\n",
    "#         p = outline_frames[i][pixel_idx]\n",
    "#         outline_frames[i][pixel_idx] = [p, p, p]\n",
    "\n",
    "\n",
    "# print(len(outline_frames))\n",
    "framesToVideo(outline_frames, fps=24/3.)"
   ]
  },
  {
   "cell_type": "code",
   "execution_count": null,
   "metadata": {},
   "outputs": [],
   "source": [
    "for i in range(len(outline_frames)):\n",
    "    for pixel_idx in range(len(outline_frames[i])):\n",
    "        p = outline_frames[i][pixel_idx]\n",
    "        outline_frames[i][pixel_idx] = [p, p, p]\n",
    "        \n",
    "outline_frames[i]"
   ]
  },
  {
   "cell_type": "code",
   "execution_count": null,
   "metadata": {},
   "outputs": [],
   "source": [
    "plt.imshow(frames[0])"
   ]
  },
  {
   "cell_type": "code",
   "execution_count": null,
   "metadata": {
    "scrolled": false
   },
   "outputs": [],
   "source": [
    "gray = cv2.cvtColor(frames[0], cv2.COLOR_BGR2GRAY)\n",
    "fig = plt.figure()\n",
    "plt.imshow(gray, cmap='gray')\n",
    "img = cv2.GaussianBlur(gray, (3, 3), 0)\n",
    "fig = plt.figure()\n",
    "plt.imshow(img, cmap='gray')\n",
    "laplacian = cv2.Laplacian(img, cv2.CV_64F)\n",
    "fig = plt.figure()\n",
    "plt.imshow(laplacian, cmap='gray')\n",
    "\n",
    "outline = deepcopy(laplacian)\n",
    "\n",
    "threshold = 6\n",
    "for i in range(len(outline)):\n",
    "    for j in range(len(outline[i])):\n",
    "        if abs(outline[i, j]) >= threshold:\n",
    "            outline[i, j] = 0\n",
    "        else:\n",
    "            outline[i, j] = 255\n",
    "\n",
    "fig = plt.figure()\n",
    "plt.imshow(outline, cmap='gray')"
   ]
  },
  {
   "cell_type": "code",
   "execution_count": 16,
   "metadata": {},
   "outputs": [],
   "source": [
    "def imgToOutline(img, threshold=6, invert=False):\n",
    "    img = cv2.cvtColor(img, cv2.COLOR_BGR2GRAY)\n",
    "    img = cv2.GaussianBlur(img, (3, 3), 0)\n",
    "    img = cv2.Laplacian(img, cv2.CV_64F)\n",
    "    \n",
    "    if invert:\n",
    "        main = 255\n",
    "        back = 0\n",
    "    else:\n",
    "        main = 0\n",
    "        back = 255\n",
    "        \n",
    "    \n",
    "    for i in range(len(img)):\n",
    "        for j in range(len(img[i])):\n",
    "            if abs(img[i, j]) >= threshold:\n",
    "                img[i, j] = main\n",
    "            else:\n",
    "                img[i, j] = back\n",
    "\n",
    "    return np.array(img)"
   ]
  },
  {
   "cell_type": "code",
   "execution_count": 25,
   "metadata": {},
   "outputs": [],
   "source": [
    "def imgToOutline(img, threshold=6, invert=False):\n",
    "    gray = cv2.cvtColor(img, cv2.COLOR_BGR2GRAY)\n",
    "    gray = cv2.GaussianBlur(gray, (3, 3), 0)\n",
    "    gray = cv2.Laplacian(gray, cv2.CV_64F)\n",
    "    \n",
    "    if invert:\n",
    "        main = 255\n",
    "        back = 0\n",
    "    else:\n",
    "        main = 0\n",
    "        back = 255\n",
    "        \n",
    "    \n",
    "    for i in range(len(gray)):\n",
    "        for j in range(len(gray[i])):\n",
    "            if abs(gray[i, j]) >= threshold:\n",
    "                img[i, j] = [main, main, main]\n",
    "            else:\n",
    "                img[i, j] = [back, back, back]\n",
    "\n",
    "    return img"
   ]
  },
  {
   "cell_type": "code",
   "execution_count": 14,
   "metadata": {},
   "outputs": [],
   "source": [
    "def framesToVideo(frames, output_path='output/video/output.mp4', fps=12):\n",
    "    try:\n",
    "        height, width, _ = frames[0].shape\n",
    "    except ValueError:\n",
    "        height, width = frames[0].shape\n",
    "    \n",
    "    fourcc = cv2.VideoWriter_fourcc(*'mp4v')\n",
    "    vw = cv2.VideoWriter(output_path, fourcc, fps, (width, height))\n",
    "    \n",
    "    for frame in frames:\n",
    "        vw.write(np.uint8(frame))\n",
    "        \n",
    "    vw.release()"
   ]
  },
  {
   "cell_type": "code",
   "execution_count": 26,
   "metadata": {},
   "outputs": [
    {
     "data": {
      "text/plain": [
       "<matplotlib.image.AxesImage at 0x7f08a1301c88>"
      ]
     },
     "execution_count": 26,
     "metadata": {},
     "output_type": "execute_result"
    },
    {
     "data": {
      "image/png": "[encoded data removed]",
      "text/plain": [
       "<matplotlib.figure.Figure at 0x7f08a135ca20>"
      ]
     },
     "metadata": {},
     "output_type": "display_data"
    }
   ],
   "source": [
    "plt.imshow(imgToOutline(frames[0], invert=False))"
   ]
  },
  {
   "cell_type": "code",
   "execution_count": null,
   "metadata": {},
   "outputs": [],
   "source": [
    "cv2.imwrite('test.jpg', outline)"
   ]
  },
  {
   "cell_type": "code",
   "execution_count": null,
   "metadata": {},
   "outputs": [],
   "source": []
  }
 ],
 "metadata": {
  "kernelspec": {
   "display_name": "Python 3",
   "language": "python",
   "name": "python3"
  },
  "language_info": {
   "codemirror_mode": {
    "name": "ipython",
    "version": 3
   },
   "file_extension": ".py",
   "mimetype": "text/x-python",
   "name": "python",
   "nbconvert_exporter": "python",
   "pygments_lexer": "ipython3",
   "version": "3.5.4"
  }
 },
 "nbformat": 4,
 "nbformat_minor": 2
}
